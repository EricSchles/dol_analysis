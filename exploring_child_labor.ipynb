{
 "cells": [
  {
   "cell_type": "code",
   "execution_count": 42,
   "metadata": {},
   "outputs": [],
   "source": [
    "import pandas as pd\n",
    "import matplotlib\n",
    "import matplotlib.pyplot as plt\n",
    "import statsmodels.api as sm\n",
    "import pydotplus \n",
    "from IPython.display import Image  \n",
    "import numpy as np\n",
    "%matplotlib inline\n",
    "plt.rcParams['figure.figsize'] = (20, 10)"
   ]
  },
  {
   "cell_type": "code",
   "execution_count": 5,
   "metadata": {},
   "outputs": [],
   "source": [
    "df = pd.read_csv(\"child_labor.csv\")"
   ]
  },
  {
   "cell_type": "code",
   "execution_count": 41,
   "metadata": {},
   "outputs": [
    {
     "data": {
      "text/html": [
       "<div>\n",
       "<style>\n",
       "    .dataframe thead tr:only-child th {\n",
       "        text-align: right;\n",
       "    }\n",
       "\n",
       "    .dataframe thead th {\n",
       "        text-align: left;\n",
       "    }\n",
       "\n",
       "    .dataframe tbody tr th {\n",
       "        vertical-align: top;\n",
       "    }\n",
       "</style>\n",
       "<table border=\"1\" class=\"dataframe\">\n",
       "  <thead>\n",
       "    <tr style=\"text-align: right;\">\n",
       "      <th></th>\n",
       "      <th>Country</th>\n",
       "      <th>Good</th>\n",
       "      <th>Child Labor</th>\n",
       "      <th>Forced Labor</th>\n",
       "    </tr>\n",
       "  </thead>\n",
       "  <tbody>\n",
       "    <tr>\n",
       "      <th>0</th>\n",
       "      <td>Afghanistan</td>\n",
       "      <td>Bricks</td>\n",
       "      <td>X</td>\n",
       "      <td>X</td>\n",
       "    </tr>\n",
       "    <tr>\n",
       "      <th>1</th>\n",
       "      <td>Afghanistan</td>\n",
       "      <td>Carpets</td>\n",
       "      <td>X</td>\n",
       "      <td>NaN</td>\n",
       "    </tr>\n",
       "    <tr>\n",
       "      <th>2</th>\n",
       "      <td>Afghanistan</td>\n",
       "      <td>Coal</td>\n",
       "      <td>X</td>\n",
       "      <td>NaN</td>\n",
       "    </tr>\n",
       "    <tr>\n",
       "      <th>3</th>\n",
       "      <td>Afghanistan</td>\n",
       "      <td>Flowers (poppies)</td>\n",
       "      <td>X</td>\n",
       "      <td>NaN</td>\n",
       "    </tr>\n",
       "    <tr>\n",
       "      <th>4</th>\n",
       "      <td>Angola</td>\n",
       "      <td>Diamonds</td>\n",
       "      <td>X</td>\n",
       "      <td>X</td>\n",
       "    </tr>\n",
       "  </tbody>\n",
       "</table>\n",
       "</div>"
      ],
      "text/plain": [
       "       Country               Good Child Labor Forced Labor\n",
       "0  Afghanistan             Bricks           X            X\n",
       "1  Afghanistan            Carpets           X          NaN\n",
       "2  Afghanistan               Coal           X          NaN\n",
       "3  Afghanistan  Flowers (poppies)           X          NaN\n",
       "4       Angola           Diamonds           X            X"
      ]
     },
     "execution_count": 41,
     "metadata": {},
     "output_type": "execute_result"
    }
   ],
   "source": [
    "df.head()"
   ]
  },
  {
   "cell_type": "markdown",
   "metadata": {},
   "source": [
    "# Understanding our data\n",
    "\n",
    "Some definitions in this data set:\n",
    "\n",
    "**Child Labor** refers to child slavery.\n",
    "\n",
    "**Forced Labor** refers to adult slavery.\n",
    "First, we will engage in some simple explanatory analysis.\n",
    "\n",
    "Let's see how many instances of Child Labor there are as a proportion of the countries surveyed."
   ]
  },
  {
   "cell_type": "code",
   "execution_count": 43,
   "metadata": {},
   "outputs": [],
   "source": [
    "child_labor = pd.DataFrame()\n",
    "countries = list(set(df['Country']))\n",
    "for country in countries:\n",
    "    tmp_df = df[df['Country'] == country]\n",
    "    num_industries = len(tmp_df[tmp_df[\"Child Labor\"] == 'X'])\n",
    "    child_labor = child_labor.append({\n",
    "        \"country\": country,\n",
    "        \"num_industries\": num_industries\n",
    "    }, ignore_index=True)"
   ]
  },
  {
   "cell_type": "code",
   "execution_count": 45,
   "metadata": {},
   "outputs": [
    {
     "data": {
      "image/png": "[encoded data removed]",
      "text/plain": [
       "<matplotlib.figure.Figure at 0x114faf780>"
      ]
     },
     "metadata": {},
     "output_type": "display_data"
    }
   ],
   "source": [
    "labels = 'child labor', 'not child labor'\n",
    "countries_with_child_labor = len(child_labor[child_labor['num_industries'] > 0])\n",
    "countries_without_child_labor = len(child_labor[child_labor['num_industries'] == 0])\n",
    "sizes = [countries_with_child_labor, countries_without_child_labor]\n",
    "fig1, ax1 = plt.subplots()\n",
    "ax1.pie(sizes, labels=labels, autopct='%1.1f%%',\n",
    "        shadow=True, startangle=90)\n",
    "ax1.axis('equal')  # Equal aspect ratio ensures that pie is drawn as a circle.\n",
    "\n",
    "plt.show()"
   ]
  },
  {
   "cell_type": "markdown",
   "metadata": {},
   "source": [
    "So, as we can see, 98.7% of all countries surveyed have some form of child labor."
   ]
  },
  {
   "cell_type": "code",
   "execution_count": 47,
   "metadata": {},
   "outputs": [
    {
     "data": {
      "image/png": "[encoded data removed]",
      "text/plain": [
       "<matplotlib.figure.Figure at 0x1151eac18>"
      ]
     },
     "metadata": {},
     "output_type": "display_data"
    }
   ],
   "source": [
    "labels = 'child labor', 'not child labor'\n",
    "more_than_one_industry = len(child_labor[child_labor['num_industries'] > 1])\n",
    "one_or_fewer_industries = len(child_labor[child_labor['num_industries'] <= 1])\n",
    "sizes = [more_than_one_industry, one_or_fewer_industries]\n",
    "fig1, ax1 = plt.subplots()\n",
    "ax1.pie(sizes, labels=labels, autopct='%1.1f%%',\n",
    "        shadow=True, startangle=90)\n",
    "ax1.axis('equal')  # Equal aspect ratio ensures that pie is drawn as a circle.\n",
    "\n",
    "plt.show()"
   ]
  },
  {
   "cell_type": "markdown",
   "metadata": {},
   "source": [
    "And 71.1% have more than one industry where child labor is used."
   ]
  },
  {
   "cell_type": "code",
   "execution_count": 40,
   "metadata": {},
   "outputs": [],
   "source": [
    "gems = ['Diamonds', 'Emeralds', 'Gems', 'Jade', 'Rubies', 'Sapphires', 'Tanzanite (gems)']\n",
    "minerals = ['Zinc, ''Wolframite (tungsten ore)', 'Trona (mineral)', 'Silver',\n",
    "           'Iron', 'Heterogenite (cobalt ore)', 'Gypsum (mineral)', 'Granite (crushed)',\n",
    "           'Granite', 'Gold', 'Coltan (tantalum ore)', 'Copper', 'Cassiterite (tin ore)', \n",
    "            'Fluorspar (mineral)', 'Tin', 'Zinc', 'Wolframite (tungsten ore)', 'Gravel (crushed stones)']\n",
    "food_related = ['Alcoholic Beverages', 'Baked Goods', 'Bananas',\n",
    "               'Beans (green beans)', 'Beans (green, soy, yellow)',\n",
    "               'Beef', 'Blueberries', 'Brazil Nuts/Chestnuts',\n",
    "               'Broccoli', 'Cashews', 'Chile Peppers', 'Citrus Fruits',\n",
    "               'Cloves', 'Coca (stimulant plant)', 'Cocoa', \n",
    "               'Coconuts', 'Coffee', 'Corn', 'Cucumbers', 'Cumin',\n",
    "               'Dried Fish', 'Eggplants', 'Fish', 'Garlic', 'Grapes',\n",
    "               'Goats', 'Hazelnuts', 'Hogs', 'Lobsters', 'Meat',\n",
    "               'Melons', 'Miraa (stimulant plant)', 'Olives',\n",
    "               'Onions', 'Peanuts', 'Pepper', 'Physic Nuts/Castor Beans',\n",
    "               'Potatoes', 'Poultry', 'Pulses (legumes)', 'Rice', 'Salt',\n",
    "               'Sesame', 'Shellfish', 'Shrimp', 'Strawberries', 'Sugar Beets',\n",
    "               'Sugarcane', 'Tea', 'Tomatoes', 'Vanilla', 'Wheat', 'Yerba Mate (stimulant plant)',\n",
    "               'Nile Perch (fish)', 'Pineapples', 'Tilapia (fish)', 'Cattle', 'Oil (Palm)',\n",
    "               'Oil (palm)', 'Sisal', 'Manioc/Cassava']\n",
    "decorations = ['Artificial Flowers', 'Flowers', 'Flowers (poppies)', 'Sunflowers']\n",
    "construction = ['Bricks', 'Bricks (clay)', 'Cement', 'Ceramics', 'Glass', 'Nails',\n",
    "               'Palm Thatch', 'Sand', 'Stones', 'Stones (limestone)', 'Timber', 'Rubber', 'Rubber ',\n",
    "               'Bamboo']\n",
    "cigarettes = ['Bidis (hand-rolled cigarettes)', 'Tobacco']\n",
    "home_durables = ['Brassware', 'Ceramics', 'Furniture', 'Furniture (steel)', 'Glass', 'Glass Bangles',\n",
    "                'Locks', 'Matches', 'Soap', 'Stones (pumice)', 'Teak']\n",
    "garments_and_fabrics = ['Carpets', 'Cotton', 'Embellished Textiles', 'Footwear', 'Footwear (sandals)',\n",
    "                       'Garments', 'Garments ', 'Leather','Leather Goods/Accessories', 'Silk Cocoons',\n",
    "                       'Silk Fabric', 'Silk Thread', 'Textiles', 'Textiles (hand-woven)', 'Textiles (jute)',\n",
    "                       'Thread/Yarn', 'Cottonseed (hybrid)', 'Fashion Accessories']\n",
    "celebratory = ['Christmas Decorations', 'Fireworks', 'Incense (agarbatti)', 'Matches', 'Pyrotechnics',\n",
    "              'Soccer Balls', 'Toys']\n",
    "energy = ['Charcoal', 'Coal']\n",
    "medical = ['Surgical Instruments']\n",
    "sexual_exploitation = ['Pornography']\n",
    "technology = ['Electronics']\n",
    "\n",
    "def categorize_industry(x):    \n",
    "    if x[\"Good\"] in food_related:\n",
    "        x[\"industry\"] = 'food'\n",
    "    if x[\"Good\"] in gems:\n",
    "        x[\"industry\"] = 'gems'\n",
    "    if x[\"Good\"] in minerals:\n",
    "        x[\"industry\"] = 'minerals'\n",
    "    if x[\"Good\"] in decorations:\n",
    "        x[\"industry\"] = \"decorations\"\n",
    "    if x[\"Good\"] in construction:\n",
    "        x[\"industry\"] = \"construction\"\n",
    "    if x[\"Good\"] in cigarettes:\n",
    "        x[\"industry\"] = \"cigarettes\"\n",
    "    if x[\"Good\"] in home_durables:\n",
    "        x[\"industry\"] = \"home_durables\"\n",
    "    if x[\"Good\"] in garments_and_fabrics:\n",
    "        x[\"industry\"] = \"garments\"\n",
    "    if x[\"Good\"] in celebratory:\n",
    "        x[\"industry\"] = \"celebratory\"\n",
    "    if x[\"Good\"] in energy:\n",
    "        x[\"industry\"] = \"energy\"\n",
    "    if x[\"Good\"] in medical:\n",
    "        x[\"industry\"] = \"medical\"\n",
    "    if x[\"Good\"] in sexual_exploitation:\n",
    "        x[\"industry\"] = \"sexual exploitation\"\n",
    "    if x[\"Good\"] in technology:\n",
    "        x[\"industry\"] = \"technology\"\n",
    "    return x\n",
    "\n",
    "df = df.apply(categorize_industry, axis=1)"
   ]
  },
  {
   "cell_type": "code",
   "execution_count": 15,
   "metadata": {
    "scrolled": true
   },
   "outputs": [],
   "source": [
    "for index in range(len(df)):\n",
    "    if pd.isnull(df.iloc[index][\"industry\"]):\n",
    "        print(df.iloc[index][\"Good\"])"
   ]
  },
  {
   "cell_type": "code",
   "execution_count": 41,
   "metadata": {},
   "outputs": [
    {
     "data": {
      "image/png": "[encoded data removed]",
      "text/plain": [
       "<matplotlib.figure.Figure at 0x1141f77f0>"
      ]
     },
     "metadata": {},
     "output_type": "display_data"
    }
   ],
   "source": [
    "industry_counts = df[\"industry\"].value_counts()\n",
    "x_vals = list(set(df[\"industry\"]))\n",
    "y_vals = [industry_counts[elem] for elem in x_vals]\n",
    "pos = list(range(len(x_vals)))\n",
    "plt.bar(pos, y_vals, align=\"center\")\n",
    "plt.xticks(pos, x_vals)\n",
    "plt.show()"
   ]
  },
  {
   "cell_type": "code",
   "execution_count": 56,
   "metadata": {},
   "outputs": [
    {
     "name": "stderr",
     "output_type": "stream",
     "text": [
      "/Library/Frameworks/Python.framework/Versions/3.6/lib/python3.6/site-packages/ipykernel_launcher.py:9: DeprecationWarning: \n",
      ".ix is deprecated. Please use\n",
      ".loc for label based indexing or\n",
      ".iloc for positional indexing\n",
      "\n",
      "See the documentation here:\n",
      "http://pandas.pydata.org/pandas-docs/stable/indexing.html#ix-indexer-is-deprecated\n",
      "  if __name__ == '__main__':\n"
     ]
    }
   ],
   "source": [
    "countries = set(df[\"Country\"])\n",
    "num_industries = []\n",
    "for country in countries:\n",
    "    tmp = df[df[\"Country\"] == country]\n",
    "    num_industries.append((country, len(tmp)))\n",
    "df[\"num_industries\"] = np.nan\n",
    "for index in df.index:\n",
    "    for industry in num_industries:\n",
    "        if df.ix[index][\"Country\"] == industry[0]:\n",
    "            df.at[index, \"num_industries\"] = industry[1]\n",
    "            break"
   ]
  },
  {
   "cell_type": "code",
   "execution_count": 57,
   "metadata": {},
   "outputs": [
    {
     "data": {
      "text/plain": [
       "0       4.0\n",
       "1       4.0\n",
       "2       4.0\n",
       "3       4.0\n",
       "4       1.0\n",
       "5      11.0\n",
       "6      11.0\n",
       "7      11.0\n",
       "8      11.0\n",
       "9      11.0\n",
       "10     11.0\n",
       "11     11.0\n",
       "12     11.0\n",
       "13     11.0\n",
       "14     11.0\n",
       "15     11.0\n",
       "16      1.0\n",
       "17     15.0\n",
       "18     15.0\n",
       "19     15.0\n",
       "20     15.0\n",
       "21     15.0\n",
       "22     15.0\n",
       "23     15.0\n",
       "24     15.0\n",
       "25     15.0\n",
       "26     15.0\n",
       "27     15.0\n",
       "28     15.0\n",
       "29     15.0\n",
       "       ... \n",
       "349    12.0\n",
       "350    12.0\n",
       "351    12.0\n",
       "352    12.0\n",
       "353     2.0\n",
       "354     2.0\n",
       "355     2.0\n",
       "356     2.0\n",
       "357    16.0\n",
       "358    16.0\n",
       "359    16.0\n",
       "360    16.0\n",
       "361    16.0\n",
       "362    16.0\n",
       "363    16.0\n",
       "364    16.0\n",
       "365    16.0\n",
       "366    16.0\n",
       "367    16.0\n",
       "368    16.0\n",
       "369    16.0\n",
       "370    16.0\n",
       "371    16.0\n",
       "372    16.0\n",
       "373     1.0\n",
       "374     5.0\n",
       "375     5.0\n",
       "376     5.0\n",
       "377     5.0\n",
       "378     5.0\n",
       "Name: num_industries, Length: 379, dtype: float64"
      ]
     },
     "execution_count": 57,
     "metadata": {},
     "output_type": "execute_result"
    }
   ],
   "source": []
  },
  {
   "cell_type": "code",
   "execution_count": null,
   "metadata": {},
   "outputs": [],
   "source": []
  }
 ],
 "metadata": {
  "kernelspec": {
   "display_name": "Python 3",
   "language": "python",
   "name": "python3"
  },
  "language_info": {
   "codemirror_mode": {
    "name": "ipython",
    "version": 3
   },
   "file_extension": ".py",
   "mimetype": "text/x-python",
   "name": "python",
   "nbconvert_exporter": "python",
   "pygments_lexer": "ipython3",
   "version": "3.6.2"
  }
 },
 "nbformat": 4,
 "nbformat_minor": 2
}
